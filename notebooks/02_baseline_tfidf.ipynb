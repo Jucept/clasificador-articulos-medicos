{
 "cells": [
  {
   "cell_type": "markdown",
   "id": "e6d3c096",
   "metadata": {},
   "source": [
    "\n",
    "# Baseline — TF-IDF + One-vs-Rest LinearSVC (Multilabel)\n",
    "\n",
    "\n",
    "Este notebook entrena un **baseline reproducible** para el reto de clasificación médica multilabel usando:\n",
    "- **Entrada:** `title + abstract`\n",
    "- **Features:** TF-IDF (unigramas + bigramas)\n",
    "- **Modelo:** One-vs-Rest **LinearSVC**\n",
    "- **Métricas:** Weighted F1 (principal), Exact Match Accuracy, reporte por clase y matrices de confusión multilabel\n"
   ]
  },
  {
   "cell_type": "markdown",
   "id": "b7ca5cd6",
   "metadata": {},
   "source": [
    "# Justificación del modelo\n",
    "Elegimos TF-IDF + LinearSVC como baseline porque:\n",
    "- TF-IDF es una representación eficiente para textos biomédicos sin necesidad de embeddings.\n",
    "- LinearSVC maneja bien datos de alta dimensión y es rápido de entrenar.\n",
    "- El esquema One-vs-Rest permite tratar el problema multilabel, entrenando un clasificador independiente por cada grupo médico.\n"
   ]
  },
  {
   "cell_type": "markdown",
   "id": "784dd5f1",
   "metadata": {},
   "source": [
    "## Configuración inicial"
   ]
  },
  {
   "cell_type": "code",
   "execution_count": 1,
   "id": "5fb98ebf",
   "metadata": {},
   "outputs": [],
   "source": [
    "DATA_PATH = \"../data/challenge_data-18-ago.csv\"  \n",
    "SEP = \";\"                                     # Separador del CSV\n",
    "SEED = 11                                     # Semilla para reproducibilidad\n",
    "TEST_SIZE = 0.20                              # Proporción de datos para test\n",
    "OUT_DIR = \"../artifacts/baseline_tfidf_svm\"\n"
   ]
  },
  {
   "cell_type": "code",
   "execution_count": 2,
   "id": "ed4cba0b",
   "metadata": {},
   "outputs": [],
   "source": [
    "\n",
    "import re, time, json\n",
    "import numpy as np\n",
    "import pandas as pd\n",
    "from pathlib import Path\n",
    "\n",
    "from sklearn.model_selection import train_test_split\n",
    "from sklearn.preprocessing import MultiLabelBinarizer\n",
    "from sklearn.feature_extraction.text import TfidfVectorizer\n",
    "from sklearn.pipeline import Pipeline\n",
    "from sklearn.svm import LinearSVC\n",
    "from sklearn.multiclass import OneVsRestClassifier\n",
    "from sklearn.metrics import f1_score, accuracy_score, classification_report, multilabel_confusion_matrix\n",
    "\n",
    "import joblib\n",
    "import matplotlib.pyplot as plt\n"
   ]
  },
  {
   "cell_type": "code",
   "execution_count": 3,
   "id": "e7e8dd2d",
   "metadata": {},
   "outputs": [
    {
     "name": "stdout",
     "output_type": "stream",
     "text": [
      "Shape: (3565, 3)\n"
     ]
    },
    {
     "data": {
      "text/html": [
       "<div>\n",
       "<style scoped>\n",
       "    .dataframe tbody tr th:only-of-type {\n",
       "        vertical-align: middle;\n",
       "    }\n",
       "\n",
       "    .dataframe tbody tr th {\n",
       "        vertical-align: top;\n",
       "    }\n",
       "\n",
       "    .dataframe thead th {\n",
       "        text-align: right;\n",
       "    }\n",
       "</style>\n",
       "<table border=\"1\" class=\"dataframe\">\n",
       "  <thead>\n",
       "    <tr style=\"text-align: right;\">\n",
       "      <th></th>\n",
       "      <th>title</th>\n",
       "      <th>abstract</th>\n",
       "      <th>group</th>\n",
       "    </tr>\n",
       "  </thead>\n",
       "  <tbody>\n",
       "    <tr>\n",
       "      <th>0</th>\n",
       "      <td>Adrenoleukodystrophy: survey of 303 cases: bio...</td>\n",
       "      <td>Adrenoleukodystrophy ( ALD ) is a genetically ...</td>\n",
       "      <td>neurological|hepatorenal</td>\n",
       "    </tr>\n",
       "    <tr>\n",
       "      <th>1</th>\n",
       "      <td>endoscopy reveals ventricular tachycardia secrets</td>\n",
       "      <td>Research question: How does metformin affect c...</td>\n",
       "      <td>neurological</td>\n",
       "    </tr>\n",
       "    <tr>\n",
       "      <th>2</th>\n",
       "      <td>dementia and cholecystitis: organ interplay</td>\n",
       "      <td>Purpose: This randomized controlled study exam...</td>\n",
       "      <td>hepatorenal</td>\n",
       "    </tr>\n",
       "    <tr>\n",
       "      <th>3</th>\n",
       "      <td>The interpeduncular nucleus regulates nicotine...</td>\n",
       "      <td>Partial lesions were made with kainic acid in ...</td>\n",
       "      <td>neurological</td>\n",
       "    </tr>\n",
       "  </tbody>\n",
       "</table>\n",
       "</div>"
      ],
      "text/plain": [
       "                                               title  \\\n",
       "0  Adrenoleukodystrophy: survey of 303 cases: bio...   \n",
       "1  endoscopy reveals ventricular tachycardia secrets   \n",
       "2        dementia and cholecystitis: organ interplay   \n",
       "3  The interpeduncular nucleus regulates nicotine...   \n",
       "\n",
       "                                            abstract                     group  \n",
       "0  Adrenoleukodystrophy ( ALD ) is a genetically ...  neurological|hepatorenal  \n",
       "1  Research question: How does metformin affect c...              neurological  \n",
       "2  Purpose: This randomized controlled study exam...               hepatorenal  \n",
       "3  Partial lesions were made with kainic acid in ...              neurological  "
      ]
     },
     "execution_count": 3,
     "metadata": {},
     "output_type": "execute_result"
    }
   ],
   "source": [
    "\n",
    "df = pd.read_csv(DATA_PATH, sep=SEP)\n",
    "print(\"Shape:\", df.shape)\n",
    "df.head(4)\n"
   ]
  },
  {
   "cell_type": "markdown",
   "id": "8d452b23",
   "metadata": {},
   "source": [
    "## Procesamiento de texto"
   ]
  },
  {
   "cell_type": "code",
   "execution_count": 4,
   "id": "4af36b4b",
   "metadata": {},
   "outputs": [
    {
     "name": "stdout",
     "output_type": "stream",
     "text": [
      "Registros con ≥1 etiqueta válida: 3565\n"
     ]
    },
    {
     "data": {
      "text/html": [
       "<div>\n",
       "<style scoped>\n",
       "    .dataframe tbody tr th:only-of-type {\n",
       "        vertical-align: middle;\n",
       "    }\n",
       "\n",
       "    .dataframe tbody tr th {\n",
       "        vertical-align: top;\n",
       "    }\n",
       "\n",
       "    .dataframe thead th {\n",
       "        text-align: right;\n",
       "    }\n",
       "</style>\n",
       "<table border=\"1\" class=\"dataframe\">\n",
       "  <thead>\n",
       "    <tr style=\"text-align: right;\">\n",
       "      <th></th>\n",
       "      <th>title</th>\n",
       "      <th>abstract</th>\n",
       "      <th>group</th>\n",
       "      <th>labels</th>\n",
       "    </tr>\n",
       "  </thead>\n",
       "  <tbody>\n",
       "    <tr>\n",
       "      <th>0</th>\n",
       "      <td>Adrenoleukodystrophy: survey of 303 cases: bio...</td>\n",
       "      <td>Adrenoleukodystrophy ( ALD ) is a genetically ...</td>\n",
       "      <td>neurological|hepatorenal</td>\n",
       "      <td>[Neurological, Hepatorenal]</td>\n",
       "    </tr>\n",
       "    <tr>\n",
       "      <th>1</th>\n",
       "      <td>endoscopy reveals ventricular tachycardia secrets</td>\n",
       "      <td>Research question: How does metformin affect c...</td>\n",
       "      <td>neurological</td>\n",
       "      <td>[Neurological]</td>\n",
       "    </tr>\n",
       "    <tr>\n",
       "      <th>2</th>\n",
       "      <td>dementia and cholecystitis: organ interplay</td>\n",
       "      <td>Purpose: This randomized controlled study exam...</td>\n",
       "      <td>hepatorenal</td>\n",
       "      <td>[Hepatorenal]</td>\n",
       "    </tr>\n",
       "  </tbody>\n",
       "</table>\n",
       "</div>"
      ],
      "text/plain": [
       "                                               title  \\\n",
       "0  Adrenoleukodystrophy: survey of 303 cases: bio...   \n",
       "1  endoscopy reveals ventricular tachycardia secrets   \n",
       "2        dementia and cholecystitis: organ interplay   \n",
       "\n",
       "                                            abstract  \\\n",
       "0  Adrenoleukodystrophy ( ALD ) is a genetically ...   \n",
       "1  Research question: How does metformin affect c...   \n",
       "2  Purpose: This randomized controlled study exam...   \n",
       "\n",
       "                      group                       labels  \n",
       "0  neurological|hepatorenal  [Neurological, Hepatorenal]  \n",
       "1              neurological               [Neurological]  \n",
       "2               hepatorenal                [Hepatorenal]  "
      ]
     },
     "execution_count": 4,
     "metadata": {},
     "output_type": "execute_result"
    }
   ],
   "source": [
    "\n",
    "# Limpieza y normalización de texto\n",
    "def normalize_text(x: str) -> str:\n",
    "    if not isinstance(x, str):\n",
    "        return \"\"\n",
    "    return re.sub(r\"\\s+\", \" \", x).strip()\n",
    "\n",
    "# Esto es lo que alimenta al modelo (se usa todo el texto, sin perder contexto).\n",
    "df[\"text\"] = (df[\"title\"].fillna(\"\") + \" \" + df[\"abstract\"].fillna(\"\")).map(normalize_text)\n",
    "\n",
    "# Procesamiento de etiquetas\n",
    "def parse_labels(val):\n",
    "    if pd.isna(val):\n",
    "        return []\n",
    "    labs = re.split(r\"[|;,/]\", str(val))\n",
    "    labs = [g.strip().lower() for g in labs if g and str(g).strip()]\n",
    "    mapping = {\n",
    "        \"cardiovascular\": \"Cardiovascular\",\n",
    "        \"neurological\": \"Neurological\",\n",
    "        \"hepatorenal\": \"Hepatorenal\",\n",
    "        \"oncological\": \"Oncological\",\n",
    "    }\n",
    "    out = [mapping[g] for g in labs if g in mapping]\n",
    "    seen=set(); uniq=[]\n",
    "    for g in out:\n",
    "        if g not in seen:\n",
    "            seen.add(g); uniq.append(g)\n",
    "    return uniq\n",
    "\n",
    "df[\"labels\"] = df[\"group\"].apply(parse_labels)\n",
    "df = df[df[\"labels\"].map(len) > 0].reset_index(drop=True)\n",
    "\n",
    "print(\"Registros con ≥1 etiqueta válida:\", len(df))\n",
    "df[[\"title\",\"abstract\",\"group\",\"labels\"]].head(3)\n"
   ]
  },
  {
   "cell_type": "markdown",
   "id": "f28e28b3",
   "metadata": {},
   "source": [
    "## Binarización de etiquetas"
   ]
  },
  {
   "cell_type": "code",
   "execution_count": 5,
   "id": "3ac657e5",
   "metadata": {},
   "outputs": [
    {
     "data": {
      "text/plain": [
       "{'Cardiovascular': 1268,\n",
       " 'Neurological': 1785,\n",
       " 'Hepatorenal': 1091,\n",
       " 'Oncological': 601}"
      ]
     },
     "execution_count": 5,
     "metadata": {},
     "output_type": "execute_result"
    }
   ],
   "source": [
    "\n",
    "mlb = MultiLabelBinarizer(classes=[\"Cardiovascular\",\"Neurological\",\"Hepatorenal\",\"Oncological\"])\n",
    "Y = mlb.fit_transform(df[\"labels\"])\n",
    "dict(zip(mlb.classes_, Y.sum(axis=0).tolist()))\n"
   ]
  },
  {
   "cell_type": "markdown",
   "id": "1aa20fa2",
   "metadata": {},
   "source": [
    "## Separamos los datos en entrenamiento y prueba"
   ]
  },
  {
   "cell_type": "code",
   "execution_count": 6,
   "id": "fcd9d086",
   "metadata": {},
   "outputs": [
    {
     "data": {
      "text/plain": [
       "(2852, 713)"
      ]
     },
     "execution_count": 6,
     "metadata": {},
     "output_type": "execute_result"
    }
   ],
   "source": [
    "\n",
    "primary_label = [labs[0] for labs in df[\"labels\"]]\n",
    "X_train, X_test, y_train, y_test, Y_train, Y_test = train_test_split(\n",
    "    df[\"text\"].values, primary_label, Y, test_size=TEST_SIZE, random_state=SEED, stratify=primary_label\n",
    ")\n",
    "len(X_train), len(X_test)\n"
   ]
  },
  {
   "cell_type": "markdown",
   "id": "2187495c",
   "metadata": {},
   "source": [
    "## Pipeline de modelado"
   ]
  },
  {
   "cell_type": "markdown",
   "id": "e13b3df8",
   "metadata": {},
   "source": [
    "### Construcción y entrenamiento del pipeline de clasificación multilabel"
   ]
  },
  {
   "cell_type": "code",
   "execution_count": 7,
   "id": "62dde997",
   "metadata": {},
   "outputs": [
    {
     "name": "stdout",
     "output_type": "stream",
     "text": [
      "Entrenamiento completado en 0.74 s\n"
     ]
    }
   ],
   "source": [
    "\n",
    "tfidf = TfidfVectorizer(\n",
    "    lowercase=True,\n",
    "    ngram_range=(1,2),\n",
    "    max_df=0.95,\n",
    "    min_df=2,\n",
    "    max_features=50000,\n",
    "    strip_accents=\"unicode\",\n",
    "    sublinear_tf=True\n",
    ")\n",
    "\n",
    "clf = OneVsRestClassifier(LinearSVC())\n",
    "\n",
    "pipe = Pipeline([(\"tfidf\", tfidf), (\"clf\", clf)])\n",
    "\n",
    "start = time.time()\n",
    "pipe.fit(X_train, Y_train)\n",
    "print(\"Entrenamiento completado en %.2f s\" % (time.time()-start))\n"
   ]
  },
  {
   "cell_type": "markdown",
   "id": "723424e5",
   "metadata": {},
   "source": [
    "### Evaluación F1 Score"
   ]
  },
  {
   "cell_type": "code",
   "execution_count": 27,
   "id": "a7f62746",
   "metadata": {},
   "outputs": [
    {
     "name": "stdout",
     "output_type": "stream",
     "text": [
      "Weighted F1: 0.8706, Exact Match: 0.7363\n"
     ]
    },
    {
     "data": {
      "text/html": [
       "<div>\n",
       "<style scoped>\n",
       "    .dataframe tbody tr th:only-of-type {\n",
       "        vertical-align: middle;\n",
       "    }\n",
       "\n",
       "    .dataframe tbody tr th {\n",
       "        vertical-align: top;\n",
       "    }\n",
       "\n",
       "    .dataframe thead th {\n",
       "        text-align: right;\n",
       "    }\n",
       "</style>\n",
       "<table border=\"1\" class=\"dataframe\">\n",
       "  <thead>\n",
       "    <tr style=\"text-align: right;\">\n",
       "      <th></th>\n",
       "      <th>precision</th>\n",
       "      <th>recall</th>\n",
       "      <th>f1-score</th>\n",
       "      <th>support</th>\n",
       "    </tr>\n",
       "  </thead>\n",
       "  <tbody>\n",
       "    <tr>\n",
       "      <th>Cardiovascular</th>\n",
       "      <td>0.976744</td>\n",
       "      <td>0.820312</td>\n",
       "      <td>0.891720</td>\n",
       "      <td>256.0</td>\n",
       "    </tr>\n",
       "    <tr>\n",
       "      <th>Neurological</th>\n",
       "      <td>0.913545</td>\n",
       "      <td>0.887955</td>\n",
       "      <td>0.900568</td>\n",
       "      <td>357.0</td>\n",
       "    </tr>\n",
       "    <tr>\n",
       "      <th>Hepatorenal</th>\n",
       "      <td>0.988095</td>\n",
       "      <td>0.744395</td>\n",
       "      <td>0.849105</td>\n",
       "      <td>223.0</td>\n",
       "    </tr>\n",
       "    <tr>\n",
       "      <th>Oncological</th>\n",
       "      <td>0.988889</td>\n",
       "      <td>0.654412</td>\n",
       "      <td>0.787611</td>\n",
       "      <td>136.0</td>\n",
       "    </tr>\n",
       "    <tr>\n",
       "      <th>micro avg</th>\n",
       "      <td>0.953659</td>\n",
       "      <td>0.804527</td>\n",
       "      <td>0.872768</td>\n",
       "      <td>972.0</td>\n",
       "    </tr>\n",
       "    <tr>\n",
       "      <th>macro avg</th>\n",
       "      <td>0.966818</td>\n",
       "      <td>0.776769</td>\n",
       "      <td>0.857251</td>\n",
       "      <td>972.0</td>\n",
       "    </tr>\n",
       "    <tr>\n",
       "      <th>weighted avg</th>\n",
       "      <td>0.957835</td>\n",
       "      <td>0.804527</td>\n",
       "      <td>0.870626</td>\n",
       "      <td>972.0</td>\n",
       "    </tr>\n",
       "    <tr>\n",
       "      <th>samples avg</th>\n",
       "      <td>0.947405</td>\n",
       "      <td>0.859864</td>\n",
       "      <td>0.884525</td>\n",
       "      <td>972.0</td>\n",
       "    </tr>\n",
       "  </tbody>\n",
       "</table>\n",
       "</div>"
      ],
      "text/plain": [
       "                precision    recall  f1-score  support\n",
       "Cardiovascular   0.976744  0.820312  0.891720    256.0\n",
       "Neurological     0.913545  0.887955  0.900568    357.0\n",
       "Hepatorenal      0.988095  0.744395  0.849105    223.0\n",
       "Oncological      0.988889  0.654412  0.787611    136.0\n",
       "micro avg        0.953659  0.804527  0.872768    972.0\n",
       "macro avg        0.966818  0.776769  0.857251    972.0\n",
       "weighted avg     0.957835  0.804527  0.870626    972.0\n",
       "samples avg      0.947405  0.859864  0.884525    972.0"
      ]
     },
     "execution_count": 27,
     "metadata": {},
     "output_type": "execute_result"
    }
   ],
   "source": [
    "\n",
    "Y_pred = pipe.predict(X_test)\n",
    "weighted_f1 = f1_score(Y_test, Y_pred, average=\"weighted\", zero_division=0)\n",
    "exact_match = accuracy_score(Y_test, Y_pred)\n",
    "report = classification_report(Y_test, Y_pred, target_names=mlb.classes_, zero_division=0, output_dict=True)\n",
    "report_df = pd.DataFrame(report).transpose()\n",
    "print(f\"Weighted F1: {weighted_f1:.4f}, Exact Match: {exact_match:.4f}\")\n",
    "report_df"
   ]
  },
  {
   "cell_type": "markdown",
   "id": "868521f2",
   "metadata": {},
   "source": [
    "El Weighted F1 obtenido refleja el rendimiento general ponderado por frecuencia de clase. \n",
    "Esto es apropiado para nuestro dataset desbalanceado, ya que clases más frecuentes como \n",
    "Cardiovascular tienen mayor peso en la métrica final.\n",
    "\n",
    "La Exact Match Accuracy es baja, lo cual es esperado en multilabel, pues exige predecir \n",
    "todas las etiquetas correctas al mismo tiempo. Sin embargo, el modelo demuestra \n",
    "capacidad razonable en detectar al menos la etiqueta principal.\n",
    "\n",
    "- Estos números son del baseline reproducido en notebooks; se espera mejora con ensembles/transformers y calibración de umbrales."
   ]
  },
  {
   "cell_type": "markdown",
   "id": "1ff0d214",
   "metadata": {},
   "source": [
    "## Guardamos resultados"
   ]
  },
  {
   "cell_type": "code",
   "execution_count": 9,
   "id": "987af31b",
   "metadata": {},
   "outputs": [],
   "source": [
    "\n",
    "out_dir = Path(OUT_DIR)\n",
    "out_dir.mkdir(parents=True, exist_ok=True)\n",
    "report_df.to_csv(out_dir/\"classification_report.csv\")\n",
    "with open(out_dir/\"metrics.json\",\"w\") as f:\n",
    "    json.dump({\"weighted_f1\":float(weighted_f1),\"exact_match_accuracy\":float(exact_match)}, f, indent=2)\n"
   ]
  },
  {
   "cell_type": "markdown",
   "id": "1275fa44",
   "metadata": {},
   "source": [
    "### Matrices de confusión multilabel"
   ]
  },
  {
   "cell_type": "code",
   "execution_count": 28,
   "id": "ac4cebf3",
   "metadata": {},
   "outputs": [
    {
     "data": {
      "image/png": "[encoded data removed]",
      "text/plain": [
       "<Figure size 640x480 with 1 Axes>"
      ]
     },
     "metadata": {},
     "output_type": "display_data"
    },
    {
     "data": {
      "image/png": "[encoded data removed]",
      "text/plain": [
       "<Figure size 640x480 with 1 Axes>"
      ]
     },
     "metadata": {},
     "output_type": "display_data"
    },
    {
     "data": {
      "image/png": "[encoded data removed]",
      "text/plain": [
       "<Figure size 640x480 with 1 Axes>"
      ]
     },
     "metadata": {},
     "output_type": "display_data"
    },
    {
     "data": {
      "image/png": "[encoded data removed]",
      "text/plain": [
       "<Figure size 640x480 with 1 Axes>"
      ]
     },
     "metadata": {},
     "output_type": "display_data"
    }
   ],
   "source": [
    "cm_dir = out_dir / \"confusion_matrices\"\n",
    "cm_dir.mkdir(exist_ok=True)\n",
    "ml_cm = multilabel_confusion_matrix(Y_test, Y_pred)\n",
    "corner_labels = [[\"TN\", \"FP\"], [\"FN\", \"TP\"]]\n",
    "\n",
    "for i, label in enumerate(mlb.classes_):\n",
    "    tn, fp, fn, tp = ml_cm[i].ravel()\n",
    "    cm = np.array([[tn, fp], [fn, tp]])\n",
    "    pd.DataFrame(cm, index=[\"True 0\", \"True 1\"], columns=[\"Pred 0\", \"Pred 1\"]).to_csv(cm_dir / f\"cm_{label}.csv\")\n",
    "    \n",
    "    fig = plt.figure()\n",
    "    ax = fig.add_subplot(111)\n",
    "    ax.imshow(cm, cmap=plt.cm.Purples)\n",
    "    ax.set_xticks([0, 1])\n",
    "    ax.set_yticks([0, 1])\n",
    "    ax.set_xticklabels([\"Pred 0\", \"Pred 1\"])\n",
    "    ax.set_yticklabels([\"True 0\", \"True 1\"])\n",
    "    ax.set_title(f\"Confusion Matrix - {label}\")\n",
    "    \n",
    "    # Etiquetas TN, FP, FN, TP en cada celda\n",
    "    for (r, c), val in np.ndenumerate(cm):\n",
    "        ax.text(c, r, f\"{corner_labels[r][c]}\\n{val}\", ha='center', va='center', fontsize=12,\n",
    "                color=\"white\" if val > cm.max()/2 else \"black\")\n",
    "    \n",
    "    ax.set_ylabel('True label')\n",
    "    ax.set_xlabel('Predicted label')\n",
    "    plt.tight_layout()\n",
    "    plt.show()  # Muestra la gráfica en el notebook\n",
    "    \n",
    "    fig.savefig(cm_dir / f\"cm_{label}.png\", dpi=140, bbox_inches=\"tight\")\n",
    "    plt.close(fig)"
   ]
  },
  {
   "cell_type": "markdown",
   "id": "7f702ba0",
   "metadata": {},
   "source": [
    "### Interpretación de los datos"
   ]
  },
  {
   "cell_type": "markdown",
   "id": "e03bc1d9",
   "metadata": {},
   "source": [
    "**Cardiovascular**\n",
    "- TP = 210, FN = 46, FP = 5, TN = 452\n",
    "- Precision = 97.7%\n",
    "- Recall = 82.0%\n",
    "- Buen recall, aunque hay 46 falsos negativos. El modelo detecta bien esta clase, pero aún se le escapan algunos casos.\n",
    "\n",
    "**Neurological**\n",
    "- TP = 317, FN = 40, FP = 30, TN = 326\n",
    "- Precision = 91.3%\n",
    "- Recall = 88.8%\n",
    "- Muy buen recall: el modelo detecta la mayoría de los textos neurológicos.\n",
    "- El número de falsos positivos es el más alto entre todas las clases (30), lo que sugiere que el modelo tiende a sobredetectar esta clase, posiblemente por patrones compartidos con otras etiquetas.\n",
    "\n",
    "**Oncological**\n",
    "- TP = 89, FN = 47, FP = 1, TN = 576\n",
    "- Precision = 98.9%\n",
    "- Recall = 65.4%\n",
    "- Pero el recall es bajo: más de un tercio de los textos oncológicos no son detectados. Esto indica que el modelo es conservador con esta clase, y podría estar perdiendo casos sutiles o con vocabulario menos típico.\n",
    "\n",
    "**Hepatorenal**\n",
    "- TP = 166, FN = 57, FP = 2, TN = 488\n",
    "- Precision = 98.8%\n",
    "- Recall = 74.4%\n",
    "- El recall es moderado: hay una cantidad considerable de falsos negativos. El modelo detecta bien esta clase cuando lo hace, pero se le escapan bastantes casos.\n",
    "\n",
    "En genereal la precisión del modelo por categoría es buena."
   ]
  },
  {
   "cell_type": "markdown",
   "id": "9e7b10d9",
   "metadata": {},
   "source": [
    "### Guardamos el modelo"
   ]
  },
  {
   "cell_type": "code",
   "execution_count": 11,
   "id": "9c0510a2",
   "metadata": {},
   "outputs": [
    {
     "name": "stdout",
     "output_type": "stream",
     "text": [
      "Modelo guardado en ..\\artifacts\\baseline_tfidf_svm\\model.joblib\n"
     ]
    }
   ],
   "source": [
    "\n",
    "model_path = out_dir/\"model.joblib\"\n",
    "joblib.dump({\"pipeline\":pipe,\"mlb\":mlb},model_path)\n",
    "print(\"Modelo guardado en\", model_path)\n"
   ]
  },
  {
   "cell_type": "markdown",
   "id": "d58bb3e8",
   "metadata": {},
   "source": [
    "### Función de predicción (DEMO)"
   ]
  },
  {
   "cell_type": "code",
   "execution_count": 12,
   "id": "a0c44c78",
   "metadata": {},
   "outputs": [
    {
     "name": "stdout",
     "output_type": "stream",
     "text": [
      "Texto: Adrenoleukodystrophy: survey of 303 cases: biochemistry, diagnosis, and therapy. Adrenoleukodystrophy ( ALD ) is a genetically determined disorder associated with progressive central demyelination and ...\n",
      "Predicción: [['Neurological', 'Hepatorenal']]\n"
     ]
    }
   ],
   "source": [
    "\n",
    "def predict_labels(texts):\n",
    "    if isinstance(texts,str):\n",
    "        texts=[texts]\n",
    "    preds=pipe.predict(texts)\n",
    "    results=[]\n",
    "    for row in preds:\n",
    "        labels=[mlb.classes_[i] for i,v in enumerate(row) if v==1]\n",
    "        results.append(labels)\n",
    "    return results\n",
    "\n",
    "demo_text=df.iloc[0][\"text\"]\n",
    "print(\"Texto:\", demo_text[:200],\"...\")\n",
    "print(\"Predicción:\",predict_labels(demo_text))\n"
   ]
  },
  {
   "cell_type": "markdown",
   "id": "a31a4abb",
   "metadata": {},
   "source": [
    "## Interpretaciones de los resultados\n",
    "\n",
    "- El **Weighted F1** obtenido representa el rendimiento global ponderado por el soporte de cada clase.  \n",
    "  Esto significa que las clases más frecuentes, como *Neurological* o *Cardiovascular*, tienen mayor impacto en la métrica final.  \n",
    "\n",
    "- La **Exact Match Accuracy** resultó significativamente más baja, lo cual es **esperado en problemas multilabel**: para acertar se deben predecir todas las etiquetas correctas a la vez, sin omitir ni añadir ninguna.\n",
    "\n",
    "- El **reporte por clase** muestra que categorías con menor representación, como *Oncological*, tienden a tener menor recall, lo que confirma la necesidad de manejar el desbalance de clases.\n",
    "\n",
    "- Las **matrices de confusión multilabel** indican que algunos errores frecuentes provienen de falsos negativos en artículos que combinan varias categorías (ejemplo: *Neurological + Hepatorenal*). Esto sugiere que el modelo aún no captura bien las co-ocurrencias de etiquetas."
   ]
  },
  {
   "cell_type": "markdown",
   "id": "2783a6e5",
   "metadata": {},
   "source": [
    "## Conclusión general  \n",
    "Este modelo baseline será nuestra **línea de referencia oficial**, con métricas reproducibles y artefactos guardados.  \n",
    "Cualquier mejora futura deberá **superar este Weighted F1** para justificar su adopción."
   ]
  }
 ],
 "metadata": {
  "kernelspec": {
   "display_name": "Python 3",
   "language": "python",
   "name": "python3"
  },
  "language_info": {
   "codemirror_mode": {
    "name": "ipython",
    "version": 3
   },
   "file_extension": ".py",
   "mimetype": "text/x-python",
   "name": "python",
   "nbconvert_exporter": "python",
   "pygments_lexer": "ipython3",
   "version": "3.13.7"
  }
 },
 "nbformat": 4,
 "nbformat_minor": 5
}
